{
 "cells": [
  {
   "attachments": {},
   "cell_type": "markdown",
   "metadata": {},
   "source": [
    "1. Tulis program dengan fungsi untuk menentukan yang paling besar dari empat angka yang diberikan!\n",
    "     ###### Note: Angka ditentukan sendiri oleh praktikan"
   ]
  },
  {
   "cell_type": "code",
   "execution_count": 12,
   "metadata": {},
   "outputs": [
    {
     "name": "stdout",
     "output_type": "stream",
     "text": [
      "Angka terbesar adalah: 4\n"
     ]
    }
   ],
   "source": [
    "def cari_terbesar(angka1, angka2, angka3, angka4):\n",
    "    terbesar = angka1  # Anggap angka pertama sebagai angka terbesar sementara\n",
    "    \n",
    "    # Periksa apakah angka kedua lebih besar\n",
    "    if angka2 > terbesar:\n",
    "        terbesar = angka2\n",
    "    \n",
    "    # Periksa apakah angka ketiga lebih besar\n",
    "    if angka3 > terbesar:\n",
    "        terbesar = angka3\n",
    "    \n",
    "    # Periksa apakah angka keempat lebih besar\n",
    "    if angka4 > terbesar:\n",
    "        terbesar = angka4\n",
    "    \n",
    "    return terbesar\n",
    "\n",
    "# Contoh penggunaan fungsi\n",
    "angka1 = int(input(\"Masukkan angka pertama: \"))\n",
    "angka2 = int(input(\"Masukkan angka kedua: \"))\n",
    "angka3 = int(input(\"Masukkan angka ketiga: \"))\n",
    "angka4 = int(input(\"Masukkan angka keempat: \"))\n",
    "\n",
    "terbesar = cari_terbesar(angka1, angka2, angka3, angka4)\n",
    "print(\"Angka terbesar adalah:\", terbesar)\n"
   ]
  },
  {
   "cell_type": "code",
   "execution_count": 13,
   "metadata": {},
   "outputs": [
    {
     "name": "stdout",
     "output_type": "stream",
     "text": [
      "Angka yang paling besar dari 1, 2, 3, 4 adalah 4\n"
     ]
    }
   ],
   "source": [
    "# Kerjakan Nomor 1 di bawah ini \n",
    "\n",
    "def angka_terbesar (a,b,c,d):\n",
    "    e = a \n",
    "    if b > e:\n",
    "        e = b\n",
    "    if c > e :\n",
    "        e = b\n",
    "    if d > e:\n",
    "        e = d\n",
    "    return e\n",
    "\n",
    "a = int(input(\"Masukkan angka pertama: \"))\n",
    "b = int(input(\"Masukkan angka ke 2: \"))\n",
    "c = int(input(\"Masukkan angka ke 3: \"))\n",
    "d = int(input(\"Masukkan angka ke 4: \"))\n",
    "\n",
    "e = angka_terbesar (a, b, c, d)\n",
    "print(f\"Angka yang paling besar dari {a}, {b}, {c}, {d} adalah {e}\")"
   ]
  },
  {
   "attachments": {},
   "cell_type": "markdown",
   "metadata": {},
   "source": [
    "2. Tulis fungsi Python yang mengambil list awal dan menampilkan list baru dengan angka unik (tidak ada angka yang sama) dari list yang pertama."
   ]
  },
  {
   "cell_type": "code",
   "execution_count": null,
   "metadata": {},
   "outputs": [],
   "source": [
    "list_awal = [9,9,9,9,9,9,9,10,11,13,14,15,17,19]"
   ]
  },
  {
   "cell_type": "code",
   "execution_count": 14,
   "metadata": {},
   "outputs": [
    {
     "name": "stdout",
     "output_type": "stream",
     "text": [
      "[9, 10, 11, 13, 14, 15, 17, 19]\n"
     ]
    }
   ],
   "source": [
    "# Kerjakan Nomor 2 di bawah ini\n",
    "x = [9,9,9,9,9,9,9,10,11,13,14,15,17,19]\n",
    "def a(x):\n",
    "    \n",
    "    b = set(x)\n",
    "\n",
    "    return sorted(list(b))\n",
    "\n",
    "y = a(x)\n",
    "print(y)"
   ]
  },
  {
   "attachments": {},
   "cell_type": "markdown",
   "metadata": {},
   "source": [
    "3. Hitunglah 2 angka yang dapat diinputkan dengan angka kedua menjadi pangkat bagi angka pertama, dan angka kedua menjadi pembagi angka pertama (tampilkan juga sisa hasil pembagiannya) \n",
    "\n",
    "clue : gunakan fungsi yang ada di built-in tanpa menggunakan sintaks operator seperti * ataupun /."
   ]
  },
  {
   "cell_type": "code",
   "execution_count": 1,
   "metadata": {},
   "outputs": [
    {
     "name": "stdout",
     "output_type": "stream",
     "text": [
      "16\n",
      "(2, 0)\n"
     ]
    }
   ],
   "source": [
    "# Kerjakan Nomor 3 di bawah ini\n",
    "def angka(a,b):\n",
    "    pangkat=pow(a,b)\n",
    "    pembagian=divmod(a,b)\n",
    "    print(pangkat)\n",
    "    print(pembagian)\n",
    "angka(4,2)\n"
   ]
  }
 ],
 "metadata": {
  "kernelspec": {
   "display_name": "Python 3",
   "language": "python",
   "name": "python3"
  },
  "language_info": {
   "codemirror_mode": {
    "name": "ipython",
    "version": 3
   },
   "file_extension": ".py",
   "mimetype": "text/x-python",
   "name": "python",
   "nbconvert_exporter": "python",
   "pygments_lexer": "ipython3",
   "version": "3.11.2"
  },
  "orig_nbformat": 4,
  "vscode": {
   "interpreter": {
    "hash": "5addf786bcd861d1ce5006f23111f8cbb206731e5b61b0a5632ba9e0252558a8"
   }
  }
 },
 "nbformat": 4,
 "nbformat_minor": 2
}
