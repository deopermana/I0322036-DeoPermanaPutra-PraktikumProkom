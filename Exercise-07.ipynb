{
 "cells": [
  {
   "cell_type": "code",
   "execution_count": 1,
   "metadata": {},
   "outputs": [
    {
     "data": {
      "text/plain": [
       "[[4, 3, 4, 2, 4, 5],\n",
       " [4, 5, 4, 2, 4, 5],\n",
       " [4, 2, 4, 5, 4, 2],\n",
       " [4, 5, 6, 7, 3, 4],\n",
       " [5, 3, 3, 4, 2, 4],\n",
       " [2, 3, 4, 2, 3, 4],\n",
       " [5, 6, 6, 3, 3, 2]]"
      ]
     },
     "execution_count": 1,
     "metadata": {},
     "output_type": "execute_result"
    }
   ],
   "source": [
    "#Buatlah sebuah fungsi untuk membuat matrix berdasarkan input dari user\n",
    "\n",
    "def create_matrix(baris,kolom):\n",
    "    matrix = []\n",
    "\n",
    "    #Tulis kode kamu disini\n",
    "    for i in range(baris):\n",
    "    # Tambahkan baris kosong ke matriks\n",
    "        matrix.append([])\n",
    "\n",
    "        for j in range(kolom):\n",
    "        # Meminta pengguna memasukkan elemen matriks\n",
    "            k = int(input(f\"Masukkan elemen matrix[{i}][{j}]: \"))\n",
    "            matrix[i].append(k)\n",
    "\n",
    "    return matrix\n",
    "\n",
    "\n",
    "baris = int(input('Masukkan Jumlah Baris:\\t'))\n",
    "kolom = int(input('Masukkan Jumlah Kolom:\\t'))\n",
    "\n",
    "create_matrix(baris,kolom)"
   ]
  },
  {
   "cell_type": "code",
   "execution_count": 3,
   "metadata": {},
   "outputs": [
    {
     "data": {
      "text/plain": [
       "[[-1, 1], [-5, -2]]"
      ]
     },
     "execution_count": 3,
     "metadata": {},
     "output_type": "execute_result"
    }
   ],
   "source": [
    "#Buatlah fungsi untuk melakukan pengurangan antar dua matrix berdasarkan input user\n",
    "\n",
    "def kurang_matrix(matrixA, matrixB):\n",
    "    kurang = [[0,0],\n",
    "              [0,0]]\n",
    "\n",
    "    #Tulis kode kamu disini\n",
    "    for i in range(len(matrixA)):\n",
    "        for j in range(len(matrixB[i])):\n",
    "            kurang[i][j]=matrixA[i][j] - matrixB[i][j]\n",
    "\n",
    "    return kurang\n",
    "\n",
    "\n",
    "matrixA = [[1,5],\n",
    "           [2,1]]\n",
    "matrixB = [[2,4],\n",
    "           [7,3]]\n",
    "\n",
    "\n",
    "kurang_matrix(matrixA,matrixB)"
   ]
  },
  {
   "cell_type": "code",
   "execution_count": 4,
   "metadata": {},
   "outputs": [
    {
     "data": {
      "text/plain": [
       "[[0.5, 2.0], [1.5, 0.75]]"
      ]
     },
     "execution_count": 4,
     "metadata": {},
     "output_type": "execute_result"
    }
   ],
   "source": [
    "#Buatlah Fungsi untuk melakukan pembagian matrix dengan skalar berdasarkan input user\n",
    "def bagi_matrix(matrix1, skalar):\n",
    "    hasil = [[0,0],\n",
    "             [0,0]]\n",
    "\n",
    "    #Tulis kode kamu disini\n",
    "    for i in range(len(matrix1)):\n",
    "        for j in range(len(matrix1[i])):\n",
    "            hasil[i][j]=matrix1[i][j]/skalar\n",
    "\n",
    "    return hasil\n",
    "\n",
    "matrix1 = [[2,8],\n",
    "           [6,3]]\n",
    "skalar = int(input('Matrix dibagi berapa?\\t'))\n",
    "\n",
    "bagi_matrix(matrix1, skalar)"
   ]
  }
 ],
 "metadata": {
  "kernelspec": {
   "display_name": "Python 3",
   "language": "python",
   "name": "python3"
  },
  "language_info": {
   "codemirror_mode": {
    "name": "ipython",
    "version": 3
   },
   "file_extension": ".py",
   "mimetype": "text/x-python",
   "name": "python",
   "nbconvert_exporter": "python",
   "pygments_lexer": "ipython3",
   "version": "3.11.2"
  },
  "orig_nbformat": 4
 },
 "nbformat": 4,
 "nbformat_minor": 2
}
